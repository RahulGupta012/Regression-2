{
 "cells": [
  {
   "cell_type": "markdown",
   "id": "0787cc2f-5091-4895-9978-366fe8f1e2cb",
   "metadata": {},
   "source": [
    "# REGRESSION 02 "
   ]
  },
  {
   "cell_type": "markdown",
   "id": "7bcfa64d-ae14-4a93-9fd4-39bc258b961c",
   "metadata": {},
   "source": [
    "____________________________________________________________________________________________________"
   ]
  },
  {
   "cell_type": "markdown",
   "id": "641255a7-91f3-4e87-bf2c-cddade07d1ed",
   "metadata": {},
   "source": [
    "# Q. Explain the concept of R-squared in linear regression models. How is it calculated, and what does it represent?"
   ]
  },
  {
   "cell_type": "markdown",
   "id": "1cd4e435-2c1f-4ade-9195-836442298f8c",
   "metadata": {},
   "source": [
    "R Squre is basically used for calculating the accuracy of the model. We are using the test segment of data for calucalating the R sqaure. It ranges 0 to 1 . We are eassily calculte the R squre by the help of sklearn library but here the farmula also be mentioned.. \n",
    "\n",
    "- R saqure= 1- (Sum of squre resideral/ Sum of squrae total\n",
    "\n",
    "- where squre total is y1- y1(bar)\n",
    "\n",
    "            -  y1= data point\n",
    "            -  y1(bar)= mean of data points\n"
   ]
  },
  {
   "cell_type": "markdown",
   "id": "be659331-a646-42b6-8417-babe3e065661",
   "metadata": {},
   "source": [
    "# Q. Define adjusted R-squared and explain how it differs from the regular R-squared."
   ]
  },
  {
   "cell_type": "markdown",
   "id": "59a71939-29c6-4ef8-b5f3-e57138da2f3a",
   "metadata": {},
   "source": [
    "When a new independent feature is adding on the data set then accuracy of the data set will increased. But the problem is , the accuracy of model incresing in each case , whether that specific function has very low correlation with the output or dependent feature. In such a case we are using the  adjusted R square, so that the model can show the accurate accuracy according its independent features. \n",
    "\n",
    "- Farmula\n",
    "     - 1 - (1 - R-squared) * ((n - 1)/(n - p - 1))."
   ]
  },
  {
   "cell_type": "markdown",
   "id": "05cdf28c-7abb-40f5-8f2d-6f3737e79b22",
   "metadata": {},
   "source": [
    "# Q4. What are RMSE, MSE, and MAE in the context of regression analysis?  what do they represent?"
   ]
  },
  {
   "cell_type": "markdown",
   "id": "236060b3-0f17-4ef5-abe4-ceee5fce4516",
   "metadata": {},
   "source": [
    "These are the cost functions, which are using for calculating the difference between predicted value of the model to the actual value of model. WE alweays need to minimize the value of cost function so the our model will work more accuratly.\n",
    "These are three types;\n",
    "\n",
    "- MSE : Mean Squred Error\n",
    "- MAE  : Mean Absolute Error\n",
    "- RMSE : Rout Squre Error"
   ]
  },
  {
   "cell_type": "markdown",
   "id": "8c6b2a03-2393-4689-8efb-8c1b17f2752d",
   "metadata": {},
   "source": [
    "# Q5. Discuss the advantages and disadvantages of using RMSE, MSE, and MAE as evaluation metrics in regression analysis."
   ]
  },
  {
   "cell_type": "markdown",
   "id": "cfe9b7de-6ba7-4f60-b492-ac5217639316",
   "metadata": {},
   "source": [
    "- ADVANTAGES OF MSE\n",
    "\n",
    "          - Equation is diffrentiable\\\n",
    "          - It has only one local or global minima\n",
    "          \n",
    "- ADVANTAGES OF MAE\n",
    "\n",
    "         - Robust outlier\n",
    "         - it will be in the same unit\n",
    "         \n",
    "- ADVANATAGES OF RMSE\n",
    "\n",
    "         - It will also be in same unit\n",
    "         - Equation is differentiable\n",
    "         \n",
    "         \n",
    "         \n",
    "         -\n",
    "         \n",
    "         \n",
    "- DISADVANTAGES OF MSE\n",
    "\n",
    "         - Not rebust outliers\n",
    "         \n",
    "- DISADVANTAGES OF MAE\n",
    "\n",
    "         - Conversions takes more time\n",
    "         \n",
    "- DISADVANTAGES OF RMSE\n",
    "\n",
    "         - Not rebust outliers\n",
    "\n"
   ]
  },
  {
   "cell_type": "markdown",
   "id": "e3b04b59-9703-4098-b923-ff1d3b278dc9",
   "metadata": {},
   "source": [
    "# Q. Explain the concept of Lasso regularization. How does it differ from Ridge regularization, and when is it more appropriate to use?"
   ]
  },
  {
   "cell_type": "markdown",
   "id": "38ce9d5d-7927-4ddd-9b53-20304f248e38",
   "metadata": {},
   "source": [
    "It is also called l1 Regulazation. The lasso regulazation is good for feature selection. It simply drop the feature from the lsit of independent features, which is very low correlated to the dependent feature. It makes it zero.There re a specific statical farmula of the lasso regression but by using the sklearn lib, we can acceses this eassily."
   ]
  },
  {
   "cell_type": "markdown",
   "id": "dc69e61c-83e2-4310-878a-ff09f7971b2b",
   "metadata": {},
   "source": [
    "# Q. How do regularized linear models help to prevent overfitting in machine learning? Provide an example to illustrate."
   ]
  },
  {
   "cell_type": "markdown",
   "id": "cc69f6c2-9c20-431a-90bd-9922d860111f",
   "metadata": {},
   "source": [
    "To prevent5 the overfitting in the machine learning , Ridge Regression can be preffered as ;\n",
    "The variables which are higly correlaterd, it calculate the cofficient of such multiple-models, and gives the results to us.\n",
    "It is specially used to analyze data that has multicollinearity. So that when a highly correleted independent feature exit, it will worl for remove them."
   ]
  },
  {
   "cell_type": "markdown",
   "id": "5ce1e500-1c77-4d8c-b8f9-b385bde1331e",
   "metadata": {},
   "source": [
    "# Q. Discuss the limitations of regularized linear models and explain why they may not always be the best choice for regression analysis."
   ]
  },
  {
   "cell_type": "markdown",
   "id": "1d5d05fd-7afd-42eb-b2f9-09563e159417",
   "metadata": {},
   "source": [
    "liner models are bit chill for outlieres,\n",
    "Liner models has overfitting issues"
   ]
  },
  {
   "cell_type": "code",
   "execution_count": null,
   "id": "a88d79d5-b9f9-4590-be64-e14c4fe6c9c0",
   "metadata": {},
   "outputs": [],
   "source": []
  }
 ],
 "metadata": {
  "kernelspec": {
   "display_name": "Python 3 (ipykernel)",
   "language": "python",
   "name": "python3"
  },
  "language_info": {
   "codemirror_mode": {
    "name": "ipython",
    "version": 3
   },
   "file_extension": ".py",
   "mimetype": "text/x-python",
   "name": "python",
   "nbconvert_exporter": "python",
   "pygments_lexer": "ipython3",
   "version": "3.10.8"
  }
 },
 "nbformat": 4,
 "nbformat_minor": 5
}
